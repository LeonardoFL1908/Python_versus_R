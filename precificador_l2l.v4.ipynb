{
 "cells": [
  {
   "cell_type": "code",
   "execution_count": 11,
   "metadata": {},
   "outputs": [],
   "source": [
    "### FEITO POR LEONARDO FARIA LIMA \n",
    "### 12/07/2024\n",
    "### REVISAO: 09/08/2024"
   ]
  },
  {
   "cell_type": "code",
   "execution_count": 12,
   "metadata": {},
   "outputs": [],
   "source": [
    "import pandas as pd  # type: ignore\n",
    "import time\n",
    "import locale\n",
    "import os"
   ]
  },
  {
   "cell_type": "code",
   "execution_count": 13,
   "metadata": {},
   "outputs": [
    {
     "name": "stdout",
     "output_type": "stream",
     "text": [
      "Escolha o nome do arquivo: (.xlsx):\n",
      "\n",
      "\n",
      "base_precos_lis.csv\n",
      "calculo_preco.xlsx\n",
      "calculo_preco_Imunologia.xlsx\n",
      "calculo_preco_OBMONOGENICA.xlsx\n",
      "calculo_preco_paineis_neurais.xlsx\n",
      "calculo_preco_RMCOMF_TCCOR.xlsx\n",
      "calculo_preco_RMCOMF_TCCOR_bi.xlsx\n",
      "envio_precos - Copia.xlsx\n",
      "envio_precos.xlsx\n",
      "envio_precos_DIV_OBMONO_2024-08-23_15h-54m.xlsx\n",
      "envio_preco_backup\n",
      "envio_preco_VIVO_RMCOMF_2024-08-28_15h-09m.xlsx\n",
      "envio_preco_VIVO_RMCOMF_2024-08-28_16h-43m.xlsx\n",
      "precos_base_calculo\n",
      "template_lis.xlsx\n"
     ]
    }
   ],
   "source": [
    "### MOSTRA OS ARQUIVOS DO DIRETÓRIO\n",
    "\n",
    "# Define o caminho do diretório\n",
    "diretorio = r\"I:\\Ger_Suporte a Cliente\\Inteligencia de Mercado\\005_Analytics\\002_Bases\\021_L2L\\03_bases_e_template_lis\"\n",
    "\n",
    "# Lista os arquivos no diretório\n",
    "arquivos = os.listdir(diretorio)\n",
    "\n",
    "# Exiba os arquivos\n",
    "print(\"Escolha o nome do arquivo: (.xlsx):\")\n",
    "print(\"\\n\")\n",
    "for arquivo in arquivos:\n",
    "    print(arquivo)\n"
   ]
  },
  {
   "cell_type": "code",
   "execution_count": 14,
   "metadata": {},
   "outputs": [],
   "source": [
    "### INPUT NOME BASE PRECOS \n",
    "\n",
    "nome_base_precos = input('Inserir o nome do arquivo referente a base de preços: ')"
   ]
  },
  {
   "cell_type": "code",
   "execution_count": 15,
   "metadata": {},
   "outputs": [],
   "source": [
    "def trata_nome_arquivo (nome):\n",
    "    nome = nome.replace(\"||\",\"_\")\n",
    "    nome = nome.replace(\"|\",\"_\")\n",
    "    nome = nome.upper()\n",
    "    nome = nome.strip()\n",
    "    return nome"
   ]
  },
  {
   "cell_type": "code",
   "execution_count": 16,
   "metadata": {},
   "outputs": [
    {
     "name": "stdout",
     "output_type": "stream",
     "text": [
      ">>>> Data e hora: quinta-feira, 29 de agosto de 2024, 15h:20m\n",
      "\n",
      "\n"
     ]
    }
   ],
   "source": [
    "#### INPUT DATAS E NOME ARQUIVO\n",
    "\n",
    "locale.setlocale(locale.LC_TIME, 'pt_BR.UTF-8')\n",
    "\n",
    "data_hoje = time.localtime() ### faz o unpacking da data \n",
    "\n",
    "ano = data_hoje.tm_year\n",
    "mes = data_hoje.tm_mon\n",
    "dia = data_hoje.tm_mday\n",
    "dia_da_semana = data_hoje.tm_wday\n",
    "\n",
    "if dia >= 1 and dia <= 9:\n",
    "\tdia = \"0\"+str(dia)\n",
    "else:\n",
    "\tdia = str(dia)\n",
    "    \n",
    "if mes >= 1 and mes <=9:\n",
    "\tmes = \"0\"+str(mes)\n",
    "else: \n",
    "\tmes = str(mes) \n",
    "\n",
    "ano = str(ano)   \n",
    "   \n",
    "data_atual = dia+\"-\"+mes+\"-\"+ano\n",
    "data_arquivo = time.strftime('%Y-%m-%d_%Hh-%Mm', data_hoje)\n",
    "\n",
    "tempo_formatado = time.strftime(\"%A, %d de %B de %Y, %Hh:%Mm\", data_hoje)\n",
    "print(f\">>>> Data e hora: {tempo_formatado}\")\n",
    "print('\\n')   "
   ]
  },
  {
   "cell_type": "code",
   "execution_count": 17,
   "metadata": {},
   "outputs": [],
   "source": [
    "### CUSTO DE PRODUÇÃO = CUSTO VARIÁVEL \n",
    "### VERIFICAR NA GPROD "
   ]
  },
  {
   "cell_type": "markdown",
   "metadata": {},
   "source": [
    "### 1. Premissas precificação do L2L \n",
    "\n",
    "* Custo Total (Custo de Produção) = Custo Variável Unitário + Custo Fixo Unitário. \n",
    "* Custo de Captação L2L = 10% do Custo Total. O custo de captação é composto por despesas com insumos de transporte + logística. \n",
    "* Custo Total L2L = Custo Total + Custo de Captação L2L, ou Custo Total L2L =  \n",
    "* Margem preço mínimo: 15%. \n",
    "* Preço labor3: Custo Total / (1-imposto sobre faturamento)*(1-margem de lucro). \n",
    "* Preço Máximo: preço labor3 * 5.\n",
    "* Menor preço absoluto (R$): se o novo preço sugerido for inferior a R$5,00, teremos que inserir no mínimo R$5,00; isso ocorre na maioria das vezes na família de analises clinicas e nas tabelas de funcionários.\n",
    "* Preço (labor3) = Custo Total L2L / (1-imposto sobre faturamento) * (1-margem)\n",
    "\n"
   ]
  },
  {
   "cell_type": "markdown",
   "metadata": {},
   "source": [
    "### 2. Tributação \n",
    "\n",
    "* Os impostos da venda com serviço de coleta e análise de exames são formados com base em PIS, COFINS, ISS de forma regionalizada. \n",
    "* Onde não houver dado usa-se 6,65% (média dos locais de maior volume).\n"
   ]
  },
  {
   "cell_type": "code",
   "execution_count": 18,
   "metadata": {},
   "outputs": [
    {
     "name": "stdout",
     "output_type": "stream",
     "text": [
      "Imposto (%):  6.65\n"
     ]
    }
   ],
   "source": [
    "# VARIÁVEIS \n",
    "tributo = 6.65/100\n",
    "print('Imposto (%): ', tributo*100)"
   ]
  },
  {
   "cell_type": "code",
   "execution_count": 19,
   "metadata": {},
   "outputs": [
    {
     "data": {
      "text/html": [
       "<div>\n",
       "<style scoped>\n",
       "    .dataframe tbody tr th:only-of-type {\n",
       "        vertical-align: middle;\n",
       "    }\n",
       "\n",
       "    .dataframe tbody tr th {\n",
       "        vertical-align: top;\n",
       "    }\n",
       "\n",
       "    .dataframe thead th {\n",
       "        text-align: right;\n",
       "    }\n",
       "</style>\n",
       "<table border=\"1\" class=\"dataframe\">\n",
       "  <thead>\n",
       "    <tr style=\"text-align: right;\">\n",
       "      <th></th>\n",
       "      <th>exame</th>\n",
       "      <th>custo_total</th>\n",
       "      <th>gprod</th>\n",
       "      <th>mg_labor3</th>\n",
       "      <th>mg_minimo</th>\n",
       "    </tr>\n",
       "  </thead>\n",
       "  <tbody>\n",
       "    <tr>\n",
       "      <th>0</th>\n",
       "      <td>VIVO||RMCOMF</td>\n",
       "      <td>251.25</td>\n",
       "      <td>0</td>\n",
       "      <td>34</td>\n",
       "      <td>15</td>\n",
       "    </tr>\n",
       "    <tr>\n",
       "      <th>1</th>\n",
       "      <td>VIVO||TCCOR</td>\n",
       "      <td>201.25</td>\n",
       "      <td>0</td>\n",
       "      <td>58</td>\n",
       "      <td>15</td>\n",
       "    </tr>\n",
       "  </tbody>\n",
       "</table>\n",
       "</div>"
      ],
      "text/plain": [
       "          exame  custo_total  gprod  mg_labor3  mg_minimo\n",
       "0  VIVO||RMCOMF       251.25      0         34         15\n",
       "1   VIVO||TCCOR       201.25      0         58         15"
      ]
     },
     "metadata": {},
     "output_type": "display_data"
    }
   ],
   "source": [
    "### CARREGA O ARQUIVO (BASE DE PREÇOS)\n",
    "\n",
    "base_precos = r\"I:\\Ger_Suporte a Cliente\\Inteligencia de Mercado\\005_Analytics\\002_Bases\\021_L2L\\03_bases_e_template_lis\\{}\".format(nome_base_precos)\n",
    "df = pd.read_excel(base_precos)\n",
    "display(df)"
   ]
  },
  {
   "cell_type": "code",
   "execution_count": 20,
   "metadata": {},
   "outputs": [],
   "source": [
    "df['custo_capt_l2l'] = df['custo_total']*(10/100)  ### CÁCULO CUSTO DE CAPTAÇÃO L2L.  "
   ]
  },
  {
   "cell_type": "code",
   "execution_count": 21,
   "metadata": {},
   "outputs": [
    {
     "data": {
      "text/html": [
       "<div>\n",
       "<style scoped>\n",
       "    .dataframe tbody tr th:only-of-type {\n",
       "        vertical-align: middle;\n",
       "    }\n",
       "\n",
       "    .dataframe tbody tr th {\n",
       "        vertical-align: top;\n",
       "    }\n",
       "\n",
       "    .dataframe thead th {\n",
       "        text-align: right;\n",
       "    }\n",
       "</style>\n",
       "<table border=\"1\" class=\"dataframe\">\n",
       "  <thead>\n",
       "    <tr style=\"text-align: right;\">\n",
       "      <th></th>\n",
       "      <th>exame</th>\n",
       "      <th>custo_total</th>\n",
       "      <th>gprod</th>\n",
       "      <th>mg_labor3</th>\n",
       "      <th>mg_minimo</th>\n",
       "      <th>custo_capt_l2l</th>\n",
       "    </tr>\n",
       "  </thead>\n",
       "  <tbody>\n",
       "    <tr>\n",
       "      <th>0</th>\n",
       "      <td>VIVO||RMCOMF</td>\n",
       "      <td>251.25</td>\n",
       "      <td>0</td>\n",
       "      <td>34</td>\n",
       "      <td>15</td>\n",
       "      <td>25.125</td>\n",
       "    </tr>\n",
       "    <tr>\n",
       "      <th>1</th>\n",
       "      <td>VIVO||TCCOR</td>\n",
       "      <td>201.25</td>\n",
       "      <td>0</td>\n",
       "      <td>58</td>\n",
       "      <td>15</td>\n",
       "      <td>20.125</td>\n",
       "    </tr>\n",
       "  </tbody>\n",
       "</table>\n",
       "</div>"
      ],
      "text/plain": [
       "          exame  custo_total  gprod  mg_labor3  mg_minimo  custo_capt_l2l\n",
       "0  VIVO||RMCOMF       251.25      0         34         15          25.125\n",
       "1   VIVO||TCCOR       201.25      0         58         15          20.125"
      ]
     },
     "metadata": {},
     "output_type": "display_data"
    }
   ],
   "source": [
    "#### IMPORTANTE: O CUSTO DE CAPTAÇAO L2L NÃO PODE EXCEDER R$ 50,00. \n",
    "\n",
    "df['custo_capt_l2l'] = df['custo_capt_l2l'].apply(lambda x: 50 if x > 50 else x)\n",
    "\n",
    "display(df)"
   ]
  },
  {
   "cell_type": "code",
   "execution_count": 22,
   "metadata": {},
   "outputs": [],
   "source": [
    "### CÁLCULOS DEMAIS VARIÁVEIS (labor3, mínimo, máximo e etc)\n",
    "\n",
    "df[\"custo_l2l\"] = df[\"custo_total\"]+df[\"custo_capt_l2l\"]\n",
    "df[\"labor3\"] = df[\"custo_l2l\"]/((1-(df['mg_labor3']/100))*(1-tributo))"
   ]
  },
  {
   "cell_type": "code",
   "execution_count": 23,
   "metadata": {},
   "outputs": [],
   "source": [
    "df[\"minimo\"] = df[\"custo_l2l\"]/((1-df[\"mg_minimo\"]/100)*(1-tributo))\n",
    "df[\"maximo\"] = df['labor3']*5\n",
    "df[\"mg_min%\"] = (((df[\"minimo\"]*(1-tributo))-df[\"custo_l2l\"])/(df[\"minimo\"]*(1-tributo)))*100\n",
    "df[\"mg_labor3_custo%\"] = (((df[\"labor3\"]*(1-tributo))-df[\"custo_l2l\"])/(df[\"labor3\"]*(1-tributo)))*100\n",
    "df[\"mg_labor3_min%\"] = (((df[\"labor3\"]*(1-tributo))-df[\"minimo\"])/(df[\"labor3\"]*(1-tributo)))*100\n",
    "df[\"mg_min_r%\"] = ((1-tributo)-(df[\"custo_l2l\"]/df[\"minimo\"]))*100\n",
    "df[\"mg_labor3_r%\"] = ((1-tributo)-(df[\"custo_l2l\"]/df[\"labor3\"]))*100\n",
    "\n",
    "df = df.drop('mg_labor3', axis=1)"
   ]
  },
  {
   "cell_type": "code",
   "execution_count": 24,
   "metadata": {},
   "outputs": [],
   "source": [
    "### ARREDONDAMENTO CASAS DECIMAIS \n",
    "\n",
    "df = df.round({'custo_total':2, 'custo_capt_l2l': 2, 'labor3': 2,'custo_l2l': 2,'minimo': 2, \"maximo\": 2, 'mg_min%': 1, \"mg_labor3_custo%\":1, \"mg_labor3_min%\": 1, 'mg_min_r%': 1, 'mg_labor3_r%': 1})"
   ]
  },
  {
   "cell_type": "code",
   "execution_count": 25,
   "metadata": {},
   "outputs": [
    {
     "name": "stdout",
     "output_type": "stream",
     "text": [
      "Nome do arquivo a ser salvo preco_VIVO_RMCOMF\n"
     ]
    }
   ],
   "source": [
    "### CRIA O NOME DO ARQUIVO \n",
    "\n",
    "set_name = df\n",
    "nome_arquivo = set_name.loc[0, \"exame\"]\n",
    "nome_arquivo = trata_nome_arquivo(nome_arquivo)\n",
    "print(\"Nome do arquivo a ser salvo\", \"preco_\"+nome_arquivo)"
   ]
  },
  {
   "cell_type": "code",
   "execution_count": 26,
   "metadata": {},
   "outputs": [
    {
     "data": {
      "text/html": [
       "<div>\n",
       "<style scoped>\n",
       "    .dataframe tbody tr th:only-of-type {\n",
       "        vertical-align: middle;\n",
       "    }\n",
       "\n",
       "    .dataframe tbody tr th {\n",
       "        vertical-align: top;\n",
       "    }\n",
       "\n",
       "    .dataframe thead th {\n",
       "        text-align: right;\n",
       "    }\n",
       "</style>\n",
       "<table border=\"1\" class=\"dataframe\">\n",
       "  <thead>\n",
       "    <tr style=\"text-align: right;\">\n",
       "      <th></th>\n",
       "      <th>exame</th>\n",
       "      <th>custo_total</th>\n",
       "      <th>gprod</th>\n",
       "      <th>mg_minimo</th>\n",
       "      <th>custo_capt_l2l</th>\n",
       "      <th>custo_l2l</th>\n",
       "      <th>labor3</th>\n",
       "      <th>minimo</th>\n",
       "      <th>maximo</th>\n",
       "      <th>mg_min%</th>\n",
       "      <th>mg_labor3_custo%</th>\n",
       "      <th>mg_labor3_min%</th>\n",
       "      <th>mg_min_r%</th>\n",
       "      <th>mg_labor3_r%</th>\n",
       "    </tr>\n",
       "  </thead>\n",
       "  <tbody>\n",
       "    <tr>\n",
       "      <th>0</th>\n",
       "      <td>VIVO||RMCOMF</td>\n",
       "      <td>251.25</td>\n",
       "      <td>0</td>\n",
       "      <td>15</td>\n",
       "      <td>25.12</td>\n",
       "      <td>276.38</td>\n",
       "      <td>448.58</td>\n",
       "      <td>348.31</td>\n",
       "      <td>2242.90</td>\n",
       "      <td>15.0</td>\n",
       "      <td>34.0</td>\n",
       "      <td>16.8</td>\n",
       "      <td>14.0</td>\n",
       "      <td>31.7</td>\n",
       "    </tr>\n",
       "    <tr>\n",
       "      <th>1</th>\n",
       "      <td>VIVO||TCCOR</td>\n",
       "      <td>201.25</td>\n",
       "      <td>0</td>\n",
       "      <td>15</td>\n",
       "      <td>20.12</td>\n",
       "      <td>221.38</td>\n",
       "      <td>564.63</td>\n",
       "      <td>278.99</td>\n",
       "      <td>2823.16</td>\n",
       "      <td>15.0</td>\n",
       "      <td>58.0</td>\n",
       "      <td>47.1</td>\n",
       "      <td>14.0</td>\n",
       "      <td>54.1</td>\n",
       "    </tr>\n",
       "  </tbody>\n",
       "</table>\n",
       "</div>"
      ],
      "text/plain": [
       "          exame  custo_total  gprod  mg_minimo  custo_capt_l2l  custo_l2l  \\\n",
       "0  VIVO||RMCOMF       251.25      0         15           25.12     276.38   \n",
       "1   VIVO||TCCOR       201.25      0         15           20.12     221.38   \n",
       "\n",
       "   labor3  minimo   maximo  mg_min%  mg_labor3_custo%  mg_labor3_min%  \\\n",
       "0  448.58  348.31  2242.90     15.0              34.0            16.8   \n",
       "1  564.63  278.99  2823.16     15.0              58.0            47.1   \n",
       "\n",
       "   mg_min_r%  mg_labor3_r%  \n",
       "0       14.0          31.7  \n",
       "1       14.0          54.1  "
      ]
     },
     "metadata": {},
     "output_type": "display_data"
    }
   ],
   "source": [
    "salva_preco = r\"i:\\Ger_Suporte a Cliente\\Inteligencia de Mercado\\005_Analytics\\002_Bases\\021_L2L\\05_resultado_calculo_preco\\preco_{}_{}.xlsx\".format(nome_arquivo, data_arquivo)\n",
    "df.to_excel(salva_preco, index=False)\n",
    "display(df)"
   ]
  },
  {
   "cell_type": "markdown",
   "metadata": {},
   "source": [
    "### 3. Gera o arquivo necessário para criar as tabelas de carga do LIS e Citrix\n",
    "* Arquivo usado pelo script \"carga_de_preço_lis_labor3\"."
   ]
  },
  {
   "cell_type": "code",
   "execution_count": 27,
   "metadata": {},
   "outputs": [
    {
     "data": {
      "text/html": [
       "<div>\n",
       "<style scoped>\n",
       "    .dataframe tbody tr th:only-of-type {\n",
       "        vertical-align: middle;\n",
       "    }\n",
       "\n",
       "    .dataframe tbody tr th {\n",
       "        vertical-align: top;\n",
       "    }\n",
       "\n",
       "    .dataframe thead th {\n",
       "        text-align: right;\n",
       "    }\n",
       "</style>\n",
       "<table border=\"1\" class=\"dataframe\">\n",
       "  <thead>\n",
       "    <tr style=\"text-align: right;\">\n",
       "      <th></th>\n",
       "      <th>exame</th>\n",
       "      <th>custo_total</th>\n",
       "      <th>custo_l2l</th>\n",
       "      <th>minimo</th>\n",
       "      <th>maximo</th>\n",
       "      <th>labor3</th>\n",
       "      <th>gprod</th>\n",
       "    </tr>\n",
       "  </thead>\n",
       "  <tbody>\n",
       "    <tr>\n",
       "      <th>0</th>\n",
       "      <td>VIVO||RMCOMF</td>\n",
       "      <td>251.25</td>\n",
       "      <td>276.38</td>\n",
       "      <td>348.31</td>\n",
       "      <td>2242.90</td>\n",
       "      <td>448.58</td>\n",
       "      <td>0</td>\n",
       "    </tr>\n",
       "    <tr>\n",
       "      <th>1</th>\n",
       "      <td>VIVO||TCCOR</td>\n",
       "      <td>201.25</td>\n",
       "      <td>221.38</td>\n",
       "      <td>278.99</td>\n",
       "      <td>2823.16</td>\n",
       "      <td>564.63</td>\n",
       "      <td>0</td>\n",
       "    </tr>\n",
       "  </tbody>\n",
       "</table>\n",
       "</div>"
      ],
      "text/plain": [
       "          exame  custo_total  custo_l2l  minimo   maximo  labor3  gprod\n",
       "0  VIVO||RMCOMF       251.25     276.38  348.31  2242.90  448.58      0\n",
       "1   VIVO||TCCOR       201.25     221.38  278.99  2823.16  564.63      0"
      ]
     },
     "metadata": {},
     "output_type": "display_data"
    }
   ],
   "source": [
    "df_envio_preco = df\n",
    "df_envio_preco = df_envio_preco[['exame', 'custo_total', 'custo_l2l', 'minimo',\t'maximo',\t'labor3',\t'gprod']]\n",
    "display(df_envio_preco)"
   ]
  },
  {
   "cell_type": "code",
   "execution_count": 28,
   "metadata": {},
   "outputs": [],
   "source": [
    "salva_envio_preco = r\"I:\\Ger_Suporte a Cliente\\Inteligencia de Mercado\\005_Analytics\\002_Bases\\021_L2L\\03_bases_e_template_lis\\envio_preco_{}_{}.xlsx\".format(nome_arquivo, data_arquivo)\n",
    "df_envio_preco.to_excel(salva_envio_preco, index=False)"
   ]
  }
 ],
 "metadata": {
  "kernelspec": {
   "display_name": "Python 3",
   "language": "python",
   "name": "python3"
  },
  "language_info": {
   "codemirror_mode": {
    "name": "ipython",
    "version": 3
   },
   "file_extension": ".py",
   "mimetype": "text/x-python",
   "name": "python",
   "nbconvert_exporter": "python",
   "pygments_lexer": "ipython3",
   "version": "3.12.4"
  }
 },
 "nbformat": 4,
 "nbformat_minor": 2
}
